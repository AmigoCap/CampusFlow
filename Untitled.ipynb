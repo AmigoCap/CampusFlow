{
 "cells": [
  {
   "cell_type": "code",
   "execution_count": 10,
   "metadata": {},
   "outputs": [],
   "source": [
    "import pandas as pd\n",
    "import glob\n",
    "import gmaps\n",
    "import gmaps.datasets\n",
    "from datetime import datetime\n",
    "from datetime import timedelta\n",
    "from dateutil.parser import parse\n",
    "from scipy import stats, integrate\n",
    "import seaborn as sns\n",
    "sns.set(color_codes=True)\n",
    "import numpy as np"
   ]
  },
  {
   "cell_type": "code",
   "execution_count": 3,
   "metadata": {},
   "outputs": [],
   "source": [
    "path = \"Data/Privamov/\"\n",
    "allFiles = glob.glob(path + \"/*\")\n",
    "frame = pd.DataFrame()\n",
    "list_= []\n",
    "\n",
    "for file_ in allFiles:\n",
    "    df = pd.read_csv(file_,sep=\"\\t\", header=None,  names = [\"Id\", \"DateTime\", \"Longitude\", \"Latitude\"])\n",
    "    list_.append(df)\n",
    "frame = pd.concat(list_)"
   ]
  },
  {
   "cell_type": "code",
   "execution_count": 5,
   "metadata": {},
   "outputs": [
    {
     "data": {
      "text/html": [
       "<div>\n",
       "<style scoped>\n",
       "    .dataframe tbody tr th:only-of-type {\n",
       "        vertical-align: middle;\n",
       "    }\n",
       "\n",
       "    .dataframe tbody tr th {\n",
       "        vertical-align: top;\n",
       "    }\n",
       "\n",
       "    .dataframe thead th {\n",
       "        text-align: right;\n",
       "    }\n",
       "</style>\n",
       "<table border=\"1\" class=\"dataframe\">\n",
       "  <thead>\n",
       "    <tr style=\"text-align: right;\">\n",
       "      <th></th>\n",
       "      <th>Id</th>\n",
       "      <th>DateTime</th>\n",
       "      <th>Longitude</th>\n",
       "      <th>Latitude</th>\n",
       "    </tr>\n",
       "  </thead>\n",
       "  <tbody>\n",
       "    <tr>\n",
       "      <th>0</th>\n",
       "      <td>11</td>\n",
       "      <td>2014-12-07 05:20:23.792</td>\n",
       "      <td>4.871210</td>\n",
       "      <td>45.776037</td>\n",
       "    </tr>\n",
       "    <tr>\n",
       "      <th>1</th>\n",
       "      <td>1</td>\n",
       "      <td>2014-12-07 05:20:24.282</td>\n",
       "      <td>-97.750252</td>\n",
       "      <td>30.257248</td>\n",
       "    </tr>\n",
       "    <tr>\n",
       "      <th>2</th>\n",
       "      <td>1</td>\n",
       "      <td>2014-12-07 05:20:24.305</td>\n",
       "      <td>-97.750252</td>\n",
       "      <td>30.257248</td>\n",
       "    </tr>\n",
       "    <tr>\n",
       "      <th>3</th>\n",
       "      <td>11</td>\n",
       "      <td>2014-12-07 05:20:24.769</td>\n",
       "      <td>4.871210</td>\n",
       "      <td>45.776037</td>\n",
       "    </tr>\n",
       "    <tr>\n",
       "      <th>4</th>\n",
       "      <td>11</td>\n",
       "      <td>2014-12-07 05:20:24.789</td>\n",
       "      <td>4.871210</td>\n",
       "      <td>45.776037</td>\n",
       "    </tr>\n",
       "  </tbody>\n",
       "</table>\n",
       "</div>"
      ],
      "text/plain": [
       "   Id                 DateTime  Longitude   Latitude\n",
       "0  11  2014-12-07 05:20:23.792   4.871210  45.776037\n",
       "1   1  2014-12-07 05:20:24.282 -97.750252  30.257248\n",
       "2   1  2014-12-07 05:20:24.305 -97.750252  30.257248\n",
       "3  11  2014-12-07 05:20:24.769   4.871210  45.776037\n",
       "4  11  2014-12-07 05:20:24.789   4.871210  45.776037"
      ]
     },
     "execution_count": 5,
     "metadata": {},
     "output_type": "execute_result"
    }
   ],
   "source": [
    "frame = frame.sort_values(by=\"DateTime\")\n",
    "frame.head()"
   ]
  },
  {
   "cell_type": "code",
   "execution_count": 11,
   "metadata": {},
   "outputs": [
    {
     "data": {
      "image/png": "[encoded data removed]",
      "text/plain": [
       "<matplotlib.figure.Figure at 0x7f868b3afa90>"
      ]
     },
     "metadata": {},
     "output_type": "display_data"
    }
   ],
   "source": [
    "np.random.seed(sum(map(ord, \"distributions\")))\n",
    "x = np.random.normal(size=100)\n",
    "sns.distplot(x);"
   ]
  },
  {
   "cell_type": "code",
   "execution_count": null,
   "metadata": {},
   "outputs": [],
   "source": [
    "frame1 = frame[frame[\"Id\"] == 1]\n",
    "liste2 = []\n",
    "        \n",
    "current = datetime.strptime(frame1.DateTime.iloc[0], '%Y-%m-%d %H:%M:%S.%f') + timedelta(minutes = 5)\n",
    "counter = 0\n",
    "i = 0\n",
    "while current  < datetime.strptime(frame1.DateTime.max(), '%Y-%m-%d %H:%M:%S.%f'):\n",
    "    if datetime.strptime(frame1.DateTime.iloc[i], '%Y-%m-%d %H:%M:%S.%f') < current:\n",
    "        counter = counter + 1\n",
    "    elif datetime.strptime(frame1.DateTime.iloc[i], '%Y-%m-%d %H:%M:%S.%f') > current + timedelta(minutes = 5):\n",
    "        liste2.append(counter)\n",
    "        counter = 0\n",
    "        current = current + timedelta(minutes= 5)\n",
    "    else:\n",
    "        liste2.append(counter)\n",
    "        counter = 0\n",
    "        current = current + timedelta(minutes = 5)\n",
    "    i = i + 1\n",
    "    \n"
   ]
  }
 ],
 "metadata": {
  "kernelspec": {
   "display_name": "Python 3",
   "language": "python",
   "name": "python3"
  },
  "language_info": {
   "codemirror_mode": {
    "name": "ipython",
    "version": 3
   },
   "file_extension": ".py",
   "mimetype": "text/x-python",
   "name": "python",
   "nbconvert_exporter": "python",
   "pygments_lexer": "ipython3",
   "version": "3.6.4"
  }
 },
 "nbformat": 4,
 "nbformat_minor": 2
}
